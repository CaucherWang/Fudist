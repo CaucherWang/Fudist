{
 "cells": [
  {
   "cell_type": "code",
   "execution_count": 1,
   "metadata": {},
   "outputs": [],
   "source": [
    "import time\n",
    "import struct\n",
    "import os\n",
    "import numpy as np\n",
    "\n",
    "source = '/home/hadoop/wzy/dataset/'\n",
    "datasets = ['yandex-text2image1M']\n",
    "\n",
    "\n",
    "def read_fvecs(filename, c_contiguous=True):\n",
    "    # fv = np.fromfile(filename, dtype=np.float32)\n",
    "    fv = np.memmap(filename, dtype='float32', mode='r+')\n",
    "    if fv.size == 0:\n",
    "        return np.zeros((0, 0))\n",
    "    dim = fv.view(np.int32)[0]\n",
    "    assert dim > 0\n",
    "    fv = fv.reshape(-1, 1 + dim)\n",
    "    # if not all(fv.view(np.int32)[:, 0] == dim):\n",
    "    #     raise IOError(\"Non-uniform vector sizes in \" + filename)\n",
    "    fv = fv[:, 1:]\n",
    "    if c_contiguous:\n",
    "        fv = fv.copy()\n",
    "    return fv\n",
    "\n",
    "def read_ivecs(filename, c_contiguous=True):\n",
    "    fv = np.fromfile(filename, dtype=np.int32)\n",
    "    if fv.size == 0:\n",
    "        return np.zeros((0, 0))\n",
    "    dim = fv.view(np.int32)[0]\n",
    "    assert dim > 0\n",
    "    fv = fv.reshape(-1, 1 + dim)\n",
    "    if not all(fv.view(np.int32)[:, 0] == dim):\n",
    "        raise IOError(\"Non-uniform vector sizes in \" + filename)\n",
    "    fv = fv[:, 1:]\n",
    "    if c_contiguous:\n",
    "        fv = fv.copy()\n",
    "    return fv\n",
    "\n",
    "dataset = datasets[0]\n",
    "path = os.path.join(source, dataset)\n",
    "data_path = os.path.join(path, f'{dataset}_base.fbin')\n",
    "\n",
    "gt_path2 = os.path.join(path, f'{dataset}_self_groundtruth_dist.fvecs')\n",
    "gt_D = read_fvecs(gt_path2)"
   ]
  },
  {
   "cell_type": "code",
   "execution_count": null,
   "metadata": {},
   "outputs": [],
   "source": [
    "gt_D = gt_D[:, 1:]\n",
    "sorted_gt_D = gt_D[gt_D[:, 0].argsort()]\n"
   ]
  },
  {
   "cell_type": "code",
   "execution_count": 8,
   "metadata": {},
   "outputs": [
    {
     "data": {
      "text/plain": [
       "(100000, 8)"
      ]
     },
     "execution_count": 8,
     "metadata": {},
     "output_type": "execute_result"
    }
   ],
   "source": [
    "sorted_gt_D\n",
    "gt_D.shape"
   ]
  }
 ],
 "metadata": {
  "kernelspec": {
   "display_name": "base",
   "language": "python",
   "name": "python3"
  },
  "language_info": {
   "codemirror_mode": {
    "name": "ipython",
    "version": 3
   },
   "file_extension": ".py",
   "mimetype": "text/x-python",
   "name": "python",
   "nbconvert_exporter": "python",
   "pygments_lexer": "ipython3",
   "version": "3.7.13"
  },
  "orig_nbformat": 4
 },
 "nbformat": 4,
 "nbformat_minor": 2
}
