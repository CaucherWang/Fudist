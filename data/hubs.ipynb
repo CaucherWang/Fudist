{
 "cells": [
  {
   "cell_type": "code",
   "execution_count": 1,
   "metadata": {},
   "outputs": [],
   "source": [
    "import hnswlib\n",
    "import numpy as np\n",
    "import struct\n",
    "import os\n",
    "def read_fvecs(filename, c_contiguous=True):\n",
    "    fv = np.fromfile(filename, dtype=np.float32)\n",
    "    if fv.size == 0:\n",
    "        return np.zeros((0, 0))\n",
    "    dim = fv.view(np.int32)[0]\n",
    "    assert dim > 0\n",
    "    fv = fv.reshape(-1, 1 + dim)\n",
    "    if not all(fv.view(np.int32)[:, 0] == dim):\n",
    "        raise IOError(\"Non-uniform vector sizes in \" + filename)\n",
    "    fv = fv[:, 1:]\n",
    "    if c_contiguous:\n",
    "        fv = fv.copy()\n",
    "    return fv\n",
    "    \n",
    "def read_ivecs(filename, c_contiguous=True):\n",
    "    fv = np.fromfile(filename, dtype=np.int32)\n",
    "    if fv.size == 0:\n",
    "        return np.zeros((0, 0))\n",
    "    dim = fv.view(np.int32)[0]\n",
    "    assert dim > 0\n",
    "    fv = fv.reshape(-1, 1 + dim)\n",
    "    if not all(fv.view(np.int32)[:, 0] == dim):\n",
    "        raise IOError(\"Non-uniform vector sizes in \" + filename)\n",
    "    fv = fv[:, 1:]\n",
    "    if c_contiguous:\n",
    "        fv = fv.copy()\n",
    "    return fv"
   ]
  },
  {
   "cell_type": "code",
   "execution_count": null,
   "metadata": {},
   "outputs": [],
   "source": [
    "source = './data/'\n",
    "dataset = 'sift'\n",
    "path = os.path.join(source, dataset)\n",
    "data_path = os.path.join(path, f'{dataset}_base.fvecs')\n",
    "# read data vectors\n",
    "print(f\"Reading {dataset} from {data_path}\")\n",
    "X = read_fvecs(data_path)\n",
    "shuf_path = os.path.join(path, f'{dataset}_base_shuf.fvecs')\n",
    "X_shuf = read_fvecs(shuf_path)\n",
    "\n",
    "original_hubs_path = os.path.join(path, f'{dataset}_hubs.ivecs')\n",
    "print(f\"Reading original hubs from {original_hubs_path}\")\n",
    "original_hubs = read_ivecs(original_hubs_path)\n",
    "hubs_path = os.path.join(path, f'{dataset}_hubs1.ivecs')\n",
    "hubs = read_ivecs(hubs_path)"
   ]
  }
 ],
 "metadata": {
  "kernelspec": {
   "display_name": "base",
   "language": "python",
   "name": "python3"
  },
  "language_info": {
   "codemirror_mode": {
    "name": "ipython",
    "version": 3
   },
   "file_extension": ".py",
   "mimetype": "text/x-python",
   "name": "python",
   "nbconvert_exporter": "python",
   "pygments_lexer": "ipython3",
   "version": "3.7.13"
  },
  "orig_nbformat": 4
 },
 "nbformat": 4,
 "nbformat_minor": 2
}
